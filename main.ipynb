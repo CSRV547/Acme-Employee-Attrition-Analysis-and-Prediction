{
 "cells": [
  {
   "cell_type": "markdown",
   "metadata": {},
   "source": [
    "*IMPORTING NECESSARY PACKAGES*"
   ]
  },
  {
   "cell_type": "code",
   "execution_count": 8,
   "metadata": {},
   "outputs": [],
   "source": [
    "import pandas as pd\n",
    "import seaborn as sns\n",
    "from sklearn.preprocessing import MinMaxScaler,LabelEncoder,StandardScaler\n",
    "from sklearn.model_selection import train_test_split\n",
    "from sklearn.metrics import accuracy_score,classification_report,confusion_matrix\n",
    "from sklearn.linear_model import LogisticRegression\n",
    "import warnings\n",
    "warnings.filterwarnings(\"ignore\")"
   ]
  },
  {
   "cell_type": "markdown",
   "metadata": {},
   "source": [
    "*LOADING THE DATASET*"
   ]
  },
  {
   "cell_type": "code",
   "execution_count": 9,
   "metadata": {},
   "outputs": [
    {
     "name": "stdout",
     "output_type": "stream",
     "text": [
      "   Age Attrition     BusinessTravel  DailyRate              Department  \\\n",
      "0   41       Yes      Travel_Rarely       1102                   Sales   \n",
      "1   49        No  Travel_Frequently        279  Research & Development   \n",
      "2   37       Yes      Travel_Rarely       1373  Research & Development   \n",
      "3   33        No  Travel_Frequently       1392  Research & Development   \n",
      "4   27        No      Travel_Rarely        591  Research & Development   \n",
      "\n",
      "   DistanceFromHome  Education EducationField  EmployeeCount  EmployeeNumber  \\\n",
      "0                 1          2  Life Sciences              1               1   \n",
      "1                 8          1  Life Sciences              1               2   \n",
      "2                 2          2          Other              1               4   \n",
      "3                 3          4  Life Sciences              1               5   \n",
      "4                 2          1        Medical              1               7   \n",
      "\n",
      "   ...  RelationshipSatisfaction StandardHours  StockOptionLevel  \\\n",
      "0  ...                         1            80                 0   \n",
      "1  ...                         4            80                 1   \n",
      "2  ...                         2            80                 0   \n",
      "3  ...                         3            80                 0   \n",
      "4  ...                         4            80                 1   \n",
      "\n",
      "   TotalWorkingYears  TrainingTimesLastYear WorkLifeBalance  YearsAtCompany  \\\n",
      "0                  8                      0               1               6   \n",
      "1                 10                      3               3              10   \n",
      "2                  7                      3               3               0   \n",
      "3                  8                      3               3               8   \n",
      "4                  6                      3               3               2   \n",
      "\n",
      "  YearsInCurrentRole  YearsSinceLastPromotion  YearsWithCurrManager  \n",
      "0                  4                        0                     5  \n",
      "1                  7                        1                     7  \n",
      "2                  0                        0                     0  \n",
      "3                  7                        3                     0  \n",
      "4                  2                        2                     2  \n",
      "\n",
      "[5 rows x 35 columns]\n",
      "Index(['Age', 'Attrition', 'BusinessTravel', 'DailyRate', 'Department',\n",
      "       'DistanceFromHome', 'Education', 'EducationField', 'EmployeeCount',\n",
      "       'EmployeeNumber', 'EnvironmentSatisfaction', 'Gender', 'HourlyRate',\n",
      "       'JobInvolvement', 'JobLevel', 'JobRole', 'JobSatisfaction',\n",
      "       'MaritalStatus', 'MonthlyIncome', 'MonthlyRate', 'NumCompaniesWorked',\n",
      "       'Over18', 'OverTime', 'PercentSalaryHike', 'PerformanceRating',\n",
      "       'RelationshipSatisfaction', 'StandardHours', 'StockOptionLevel',\n",
      "       'TotalWorkingYears', 'TrainingTimesLastYear', 'WorkLifeBalance',\n",
      "       'YearsAtCompany', 'YearsInCurrentRole', 'YearsSinceLastPromotion',\n",
      "       'YearsWithCurrManager'],\n",
      "      dtype='object')\n",
      "Age                         0\n",
      "Attrition                   0\n",
      "BusinessTravel              0\n",
      "DailyRate                   0\n",
      "Department                  0\n",
      "DistanceFromHome            0\n",
      "Education                   0\n",
      "EducationField              0\n",
      "EmployeeCount               0\n",
      "EmployeeNumber              0\n",
      "EnvironmentSatisfaction     0\n",
      "Gender                      0\n",
      "HourlyRate                  0\n",
      "JobInvolvement              0\n",
      "JobLevel                    0\n",
      "JobRole                     0\n",
      "JobSatisfaction             0\n",
      "MaritalStatus               0\n",
      "MonthlyIncome               0\n",
      "MonthlyRate                 0\n",
      "NumCompaniesWorked          0\n",
      "Over18                      0\n",
      "OverTime                    0\n",
      "PercentSalaryHike           0\n",
      "PerformanceRating           0\n",
      "RelationshipSatisfaction    0\n",
      "StandardHours               0\n",
      "StockOptionLevel            0\n",
      "TotalWorkingYears           0\n",
      "TrainingTimesLastYear       0\n",
      "WorkLifeBalance             0\n",
      "YearsAtCompany              0\n",
      "YearsInCurrentRole          0\n",
      "YearsSinceLastPromotion     0\n",
      "YearsWithCurrManager        0\n",
      "dtype: int64\n"
     ]
    }
   ],
   "source": [
    "\n",
    "DF=pd.read_csv(r\"C:\\VS PROJECTS\\ACME EMP ATTRITION\\Acme-Employee-Attrition-Analysis-and-Prediction\\Attrition Dataset\\WA_Fn-UseC_-HR-Employee-Attrition.csv\")\n",
    "#checking for values and column names\n",
    "print(DF.head())\n",
    "print(DF.columns)\n",
    "print(DF.isnull().sum())\n",
    "#creating a temp dataframe for ML model\n",
    "data=pd.DataFrame()\n",
    "data=pd.DataFrame(data=DF)"
   ]
  },
  {
   "cell_type": "markdown",
   "metadata": {},
   "source": [
    "DATA PREPROCESSING"
   ]
  },
  {
   "cell_type": "code",
   "execution_count": 10,
   "metadata": {},
   "outputs": [],
   "source": [
    "#label encoding for string\n",
    "def label_encode(df, columns):\n",
    "    label_encoders = {}\n",
    "    for col in columns:\n",
    "        label_encoders[col] = LabelEncoder()\n",
    "        df[col] = label_encoders[col].fit_transform(df[col])\n",
    "    return df, label_encoders\n",
    "\n",
    "columns_to_encode = ['Attrition','BusinessTravel','Department','EducationField','Gender','JobRole','MaritalStatus','Over18','OverTime']\n",
    "df_encoded, encoders = label_encode(data, columns_to_encode)\n",
    "\n",
    "def inverse_transform(df, columns, label_encoders):\n",
    "    for col in columns:\n",
    "        df[col] = label_encoders[col].inverse_transform(df[col])\n",
    "    return df"
   ]
  },
  {
   "cell_type": "code",
   "execution_count": 11,
   "metadata": {},
   "outputs": [],
   "source": [
    "#normalization\n",
    "scale=MinMaxScaler()\n",
    "data['DailyRate']=scale.fit_transform(data['DailyRate'].values.reshape(-1,1))\n",
    "data['HourlyRate']=scale.fit_transform(data['HourlyRate'].values.reshape(-1,1))\n",
    "data['MonthlyIncome']=scale.fit_transform(data['MonthlyIncome'].values.reshape(-1,1))\n",
    "data['MonthlyRate']=scale.fit_transform(data['MonthlyRate'].values.reshape(-1,1))\n",
    "data['PercentSalaryHike']=scale.fit_transform(data['PercentSalaryHike'].values.reshape(-1,1))"
   ]
  },
  {
   "cell_type": "code",
   "execution_count": 12,
   "metadata": {},
   "outputs": [],
   "source": [
    "#scaling\n",
    "std=StandardScaler()\n",
    "data['DistanceFromHome']=std.fit_transform(data['DistanceFromHome'].values.reshape(-1,1))\n",
    "data['TotalWorkingYears']=std.fit_transform(data['TotalWorkingYears'].values.reshape(-1,1))\n",
    "data['YearsAtCompany']=std.fit_transform(data['YearsAtCompany'].values.reshape(-1,1))"
   ]
  },
  {
   "cell_type": "markdown",
   "metadata": {},
   "source": [
    "*MODEL*"
   ]
  },
  {
   "cell_type": "code",
   "execution_count": 13,
   "metadata": {},
   "outputs": [
    {
     "name": "stdout",
     "output_type": "stream",
     "text": [
      "Accuracy Score of the Model: 0.8820861678004536\n",
      "\n",
      "\n",
      " Classification Report:\n",
      "               precision    recall  f1-score   support\n",
      "\n",
      "           0       0.98      0.89      0.93       406\n",
      "           1       0.38      0.77      0.51        35\n",
      "\n",
      "    accuracy                           0.88       441\n",
      "   macro avg       0.68      0.83      0.72       441\n",
      "weighted avg       0.93      0.88      0.90       441\n",
      "\n",
      "\n",
      "\n",
      "Confusion matrix of the model:\n",
      "\n"
     ]
    },
    {
     "data": {
      "image/png": "[encoded data removed]",
      "text/plain": [
       "<Figure size 640x480 with 1 Axes>"
      ]
     },
     "metadata": {},
     "output_type": "display_data"
    }
   ],
   "source": [
    "#filtered features that doesn't require label encoding\n",
    "data1=data[['Age',  'DailyRate', \n",
    "       'DistanceFromHome', 'Education', 'EnvironmentSatisfaction',  'HourlyRate',\n",
    "       'JobInvolvement', 'JobLevel',  'JobSatisfaction',\n",
    "        'MonthlyIncome', 'MonthlyRate', 'NumCompaniesWorked',\n",
    "        'PercentSalaryHike', 'PerformanceRating',\n",
    "       'RelationshipSatisfaction', 'StandardHours', 'StockOptionLevel',\n",
    "       'TotalWorkingYears', 'TrainingTimesLastYear', 'WorkLifeBalance',\n",
    "       'YearsAtCompany', 'YearsInCurrentRole', 'YearsSinceLastPromotion',\n",
    "       'YearsWithCurrManager']]\n",
    "#features that requires label encoding\n",
    "data2=df_encoded[['BusinessTravel','Department','EducationField','Gender','JobRole','MaritalStatus','Over18', 'OverTime',]]\n",
    "#merging 2 dataframes for feature variable\n",
    "X=pd.concat([data1,data2],axis=1)\n",
    "#specifying the target variable\n",
    "y=df_encoded['Attrition']\n",
    "#splitting training and testing data\n",
    "X_train,X_test,y_train,y_test=train_test_split(X,y,test_size=0.3,random_state=40)\n",
    "#ML model\n",
    "model=LogisticRegression()\n",
    "model.fit(X_train,y_train)\n",
    "y_pred=model.predict(X_test)\n",
    "print(\"Accuracy Score of the Model:\",accuracy_score(y_test,y_pred))\n",
    "print(\"\\n\\n Classification Report:\\n\",classification_report(y_pred,y_test))\n",
    "print(\"\\n\\nConfusion matrix of the model:\\n\")\n",
    "sns.heatmap(confusion_matrix(y_pred,y_test), annot=True, cmap='Blues', fmt='g', cbar=False)\n",
    "#decoding the predicted and adding to the last column of data\n",
    "DF.insert(len(DF.columns), \"prediction\",encoders['Attrition'].inverse_transform(model.predict(X)))"
   ]
  },
  {
   "cell_type": "markdown",
   "metadata": {},
   "source": [
    "*POWERBI PYTHON SCRIPT*"
   ]
  },
  {
   "cell_type": "code",
   "execution_count": 14,
   "metadata": {},
   "outputs": [],
   "source": [
    "# import pandas as pd\n",
    "# from sklearn.preprocessing import MinMaxScaler,LabelEncoder,StandardScaler\n",
    "# from sklearn.model_selection import train_test_split\n",
    "# from sklearn.linear_model import LogisticRegression\n",
    "# import warnings\n",
    "# warnings.filterwarnings(\"ignore\")\n",
    "\n",
    "# #label encoding for string\n",
    "# def label_encode(df, columns):\n",
    "#     label_encoders = {}\n",
    "#     for col in columns:\n",
    "#         label_encoders[col] = LabelEncoder()\n",
    "#         df[col] = label_encoders[col].fit_transform(df[col])\n",
    "#     return df, label_encoders\n",
    "\n",
    "# columns_to_encode = ['Attrition','BusinessTravel','Department','EducationField','Gender','JobRole','MaritalStatus','Over18','OverTime']\n",
    "# df_encoded, encoders = label_encode(dataset, columns_to_encode)\n",
    "\n",
    "# def inverse_transform(df, columns, label_encoders):\n",
    "#     for col in columns:\n",
    "#         df[col] = label_encoders[col].inverse_transform(df[col])\n",
    "#     return df\n",
    "\n",
    "# scale=MinMaxScaler()\n",
    "# dataset['DailyRate']=scale.fit_transform(dataset['DailyRate'].values.reshape(-1,1))\n",
    "# dataset['HourlyRate']=scale.fit_transform(dataset['HourlyRate'].values.reshape(-1,1))\n",
    "# dataset['MonthlyIncome']=scale.fit_transform(dataset['MonthlyIncome'].values.reshape(-1,1))\n",
    "# dataset['MonthlyRate']=scale.fit_transform(dataset['MonthlyRate'].values.reshape(-1,1))\n",
    "# dataset['PercentSalaryHike']=scale.fit_transform(dataset['PercentSalaryHike'].values.reshape(-1,1))\n",
    "\n",
    "# std=StandardScaler()\n",
    "# dataset['DistanceFromHome']=std.fit_transform(dataset['DistanceFromHome'].values.reshape(-1,1))\n",
    "# dataset['TotalWorkingYears']=std.fit_transform(dataset['TotalWorkingYears'].values.reshape(-1,1))\n",
    "# dataset['YearsAtCompany']=std.fit_transform(dataset['YearsAtCompany'].values.reshape(-1,1))\n",
    "# #ML model\n",
    "# data1=dataset[['Age',  'DailyRate', \n",
    "#        'DistanceFromHome', 'Education', 'EnvironmentSatisfaction',  'HourlyRate',\n",
    "#        'JobInvolvement', 'JobLevel',  'JobSatisfaction',\n",
    "#         'MonthlyIncome', 'MonthlyRate', 'NumCompaniesWorked',\n",
    "#         'PercentSalaryHike', 'PerformanceRating',\n",
    "#        'RelationshipSatisfaction', 'StandardHours', 'StockOptionLevel',\n",
    "#        'TotalWorkingYears', 'TrainingTimesLastYear', 'WorkLifeBalance',\n",
    "#        'YearsAtCompany', 'YearsInCurrentRole', 'YearsSinceLastPromotion',\n",
    "#        'YearsWithCurrManager']]\n",
    "# data2=df_encoded[['BusinessTravel','Department','EducationField','Gender','JobRole','MaritalStatus','Over18', 'OverTime',]]\n",
    "# X=pd.concat([data1,data2],axis=1)\n",
    "# y=df_encoded['Attrition']\n",
    "# X_train,X_test,y_train,y_test=train_test_split(X,y,test_size=0.3,random_state=40)\n",
    "\n",
    "# dt=LogisticRegression()\n",
    "# dt.fit(X_train,y_train)\n",
    "# df_decoded = inverse_transform(df_encoded, [col for col in columns_to_encode], encoders)\n",
    "# dataset=pd.concat([data1,df_decoded],axis=1)\n",
    "# dataset.insert(len(dataset.columns), \"prediction\",encoders['Attrition'].inverse_transform(dt.predict(X)))\n"
   ]
  }
 ],
 "metadata": {
  "kernelspec": {
   "display_name": "Python 3",
   "language": "python",
   "name": "python3"
  },
  "language_info": {
   "codemirror_mode": {
    "name": "ipython",
    "version": 3
   },
   "file_extension": ".py",
   "mimetype": "text/x-python",
   "name": "python",
   "nbconvert_exporter": "python",
   "pygments_lexer": "ipython3",
   "version": "3.12.2"
  }
 },
 "nbformat": 4,
 "nbformat_minor": 2
}
